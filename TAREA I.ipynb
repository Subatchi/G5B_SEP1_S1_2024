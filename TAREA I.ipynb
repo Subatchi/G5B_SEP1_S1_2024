{
 "cells": [
  {
   "cell_type": "markdown",
   "metadata": {},
   "source": [
    "# TAREA I - SEP I/A\n",
    "<div style=\"text-align: justify;\">\n",
    "\n",
    "## 0. Esquema De Arquitectura Del Proyecto\n",
    "Se presenta un breve esquema realizado en la aplicación Drawio que resume a grandes rasgos la forma de operación en que se realiza el estudio y proyecto presentado en este informe. En el que dos estudiantes pueden intercambiar conocimiento a través de la plataforma GitHub.\n",
    "\n",
    "<div style=\"text-align: center;\">\n",
    "  <img src=\"IMAGENES/Esquema_Proyecto.PNG\" alt=\"Descripción de la imagen\" width=\"500\"/>\n",
    "</div>\n",
    "\n",
    "## 1. Estudio De Ingeniería\n",
    "\n",
    "### I. Terminología\n",
    "* **SEN:** Sistema Eléctrico Nacional.\n",
    "* **ST:** Sistema De Transmisión.\n",
    "* **CC:** Centro de Control de un Coordinado.\n",
    "\n",
    "### II. Límites Admisibles de Operación\n",
    "En base a lo mencionado por la \"Norma Técnica de Seguridad y Calidad de Servicio\" [1], se definen a continuación los límites admisibles de operación para el estudio.\n",
    "\n",
    "**A) Estándares de Instalaciones del SEN Para Estado Normal, Estado De Alerta y Estado de Emergencia.**\n",
    "\n",
    "**[Artículo 5-19]** El SI deberá operar en Estado Normal con todos los elementos e instalaciones del ST y compensación de potencia reactiva disponibles, y suficientes márgenes y reserva de potencia reactiva en las unidades generadoras, compensadores estáticos y sincrónicos, para lo cual el Coordinador y los CC, según corresponda, deberán controlar que la magnitud de la tensión en las barras del SI esté comprendida entre:\n",
    "* 0.97 y 1.03 pu, para instalaciones del ST con tensión nominal igual o superior a 500 [kV].\n",
    "* 0.95 y 1.05 pu, para instalaciones del ST con tensión nominal igual o superior a 200 [kV] e inferior a 500 [kV].\n",
    "* 0.93 y 1.07 pu para instalaciones del ST con tensión nominal inferior a 200 [kV].\n",
    "\n",
    "**[Artículo 5-23]** En Estado de Alerta el Coordinador y los CC deberán controlar que la magnitud de la tensión en\n",
    "las barras del SI esté comprendida entre:\n",
    "* 0.95 y 1.05 pu, para instalaciones del Sistema de Transmisión con tensión nominal igual o superior a 500 [kV], siempre que el límite superior no exceda la tensión máxima de servicio de los equipos.\n",
    "* 0.93 y 1.07 pu, para instalaciones del Sistema de Transmisión con tensión nominal igual o superior a 200 [kV] e inferior a 500 [kV], siempre que el límite superior no exceda la tensión máxima de servicio de los equipos.\n",
    "* 0.90 y 1.10 pu, para instalaciones del Sistema de Transmisión con tensión nominal inferior a 200 [kV], siempre que el límite superior no exceda la tensión máxima de servicio de los equipos.\n",
    "\n",
    "**[Artículo 5-47]** En Estado de Emergencia el Coordinador y los CC deberán controlar que la magnitud de la tensión\n",
    "en las barras del SI esté comprendida entre:\n",
    "* 0.93 y 1.05 pu, para instalaciones del Sistema de Transmisión con tensión nominal igual o superior a 500 [kV], siempre que el límite superior no exceda la tensión máxima de servicio de los equipos.\n",
    "* 0.90 y 1.10 por unidad, para instalaciones del Sistema de Transmisión con tensión nominal igual o superior a 200 [kV] e inferior a 500 [kV], siempre que el límite superior no exceda la tensión máxima de servicio de los equipos.\n",
    "* 0.90 y 1.10 por unidad, para instalaciones del Sistema de Transmisión con tensión nominal inferior a 200 [kV], siempre que el límite superior no exceda la tensión máxima de servicio de los equipos.\n",
    "\n",
    "### III. Tipos de Modelados De Líneas\n",
    "En general, para la modelación de líneas de transmisión existen dos enfoques: en primer lugar se tiene el modelamiento a través de **parámetros concentrados**, en el que la línea se modela como una serie de componentes concentrados distribuidos a lo largo de su longitud, basándose en la simplificación de la línea como un circuito equivalente, donde cada componente representa una característica eléctrica específica de la línea. Mientras que por otro lado, el segundo enfoque involucra el modelamiento de líneas a través de **parámetros distribuidos**, en el que la línea se modela como un circuito distribuido, y por lo tanto, donde los parámetros eléctricos varían continuamente a lo largo de la longitud de la línea. De manera que en lugar de utilizar componentes discretos (RLC), se utilizan funciones de distribución para representar la variación continua de estos parámetros.\n",
    "\n",
    "Así entonces, mientras el modelado a través de **parámetros concentrados** es útil para análisis de circuitos de corriente alterna (AC) y para aplicaciones donde la longitud de la línea es relativamente corta en comparación con la longitud de onda de la señal, el modelado a través de **parámetros distribuidos** representa un enfoque mucho más preciso para modelar líneas de transmisión largas o para frecuencias más altas donde los efectos de distribución son significativos.\n",
    "\n",
    "Respecto a la librería escogida para este estudio, se debe señalar que corresponde a la librería **PandaPower**. La cual trabaja directamente el modelado de líneas a través del uso de _parámetros concentrados_.\n",
    "</div>"
   ]
  },
  {
   "cell_type": "markdown",
   "metadata": {},
   "source": [
    "## 2. MODELO A\n",
    "\n",
    "En base a la información suministrada para el **Sistema A** y mostrada en la figura se plantea el esquema con Panda Power. Y se realiza el flujo de carga respectivo para la carga que cambia en el rango $\\pm 50\\%$ de la potencia indicada.\n",
    "\n",
    "<div style=\"text-align: center;\">\n",
    "  <img src=\"IMAGENES/MODELO_A.PNG\" alt=\"Descripción de la imagen\" width=\"200\"/>\n",
    "</div>"
   ]
  },
  {
   "cell_type": "markdown",
   "metadata": {},
   "source": [
    "**OBSERVACIÓN:** Puesto que la carga posee un rango de operación, se calcula previamente este rango de la siguiente manera:\n",
    "\n",
    "  $$Rango\\ Carga = [1200 \\times 0.5\\ \\text{MVA},\\ 1200 \\times 1.5\\ \\text{MVA}] = [600\\ \\text{MVA},\\ 1800\\ \\text{MVA}]$$"
   ]
  },
  {
   "cell_type": "code",
   "execution_count": 21,
   "metadata": {},
   "outputs": [
    {
     "name": "stdout",
     "output_type": "stream",
     "text": [
      "[1.086900610081404, 1.0867764677279776, 1.0866522717939522, 1.0865280222334044, 1.086403719000342, 1.0862793620486968, 1.086154951332332, 1.0860304868050366, 1.085905968420528, 1.085781597930522, 1.0856569717336444, 1.085532291540312, 1.0854075573039497, 1.0852827689779099, 1.0851579265154732, 1.0850330298698447, 1.0849080789941563, 1.0847830738414663, 1.0846582165350702, 1.0845331027288398, 1.0844079345043807, 1.0842827118144538, 1.0841574346117466, 1.0840321028488706, 1.0839067164783616, 1.0837812754526828, 1.0836557797242192, 1.0835304317913435, 1.0834048265561451, 1.0832791664749122, 1.083153451499727, 1.0830276815825977, 1.0829018566754554, 1.0827759767301544, 1.082650041698473, 1.0825240515321115, 1.0823982091080653, 1.0822721085695162, 1.0821459527509736, 1.0820197416038293, 1.0818934750793976, 1.0817671531289166, 1.0816407757035444, 1.0815143427543619, 1.0813878542323714, 1.0812615133967822, 1.081134913624649, 1.081008258132289, 1.080881546870389, 1.080754779789558, 1.0806279568403243, 1.0805010779731379, 1.0803741431383684, 1.0802471522863049, 1.0801203090620148, 1.0799932060691022, 1.0798660469093297, 1.0797388315326668, 1.0796115598890004, 1.0794842319281375, 1.0793568475998039, 1.0792294068536432, 1.0791019096392187, 1.0789745599911487, 1.0788469497321618, 1.0787192828531555, 1.0785915593033646, 1.0784637790319413, 1.078335941987956, 1.0782080481203955, 1.078080097378165, 1.0779520897100845, 1.07782422954407, 1.0776961079144467, 1.077567929204983, 1.077439693364167, 1.0773114003404003, 1.077183050082002, 1.077054642537206, 1.076926177654161, 1.0767976553809322, 1.07666928054253, 1.0765406433772378, 1.0764119486654922, 1.0762831963550155, 1.076154386393445, 1.0760255187283327, 1.075896593307144, 1.0757676100772566, 1.075638568985964, 1.075509675259225, 1.075380518331536, 1.0752513033838453, 1.0751220303630966, 1.0749926992161467, 1.074863309889764, 1.0747338623306297, 1.0746043564853354, 1.0744747923003868, 1.0743453754065977, 1.0742156944268217, 1.0740859549464201, 1.0739561569115423, 1.0738263002682467, 1.0736963849625043, 1.0735664109401941, 1.073436378147107, 1.0733062865289418, 1.0731761360313095, 1.0730461327395238, 1.0729158643652428, 1.072785536947827, 1.0726551504325232, 1.0725247047644852, 1.0723941998887767, 1.0722636357503683, 1.0721330122941382, 1.0720023294648733, 1.0718717937611795, 1.071740992066109, 1.0716101308318575]\n"
     ]
    }
   ],
   "source": [
    "import pandapower as pp\n",
    "import math as mm\n",
    "import matplotlib.pyplot as plt\n",
    "\n",
    "#Variables Globales\n",
    "Tensiones = []\n",
    "Paso = 10 #MVA\n",
    "max_iteraciones = 20\n",
    "#Parámetros de Línea\n",
    "r1 = 0.02  #(Ohm/km)\n",
    "x1 = 0.115 #(Ohm/km)\n",
    "B1 = 19.1  #(nF/km)\n",
    "Imax1 = 1  #(kA)\n",
    "\n",
    "for i in range(600,1800+1,Paso): \n",
    "    net1 = pp.create_empty_network()\n",
    "    #Barras\n",
    "    b1_1 = pp.create_bus(net1, vn_kv=1200, name=\"Barra 1\")\n",
    "    b2_1 = pp.create_bus(net1, vn_kv=1200, name=\"Barra 2\")\n",
    "    #Calculo De Potencias En Carga\n",
    "    FP1 = 0.9\n",
    "    P1 = round(i * FP1, 2)\n",
    "    Q1 = round(i * mm.sqrt(1 - FP1**2), 2)\n",
    "    #Elementos De Barra\n",
    "    pp.create_ext_grid(net1, bus=b1_1, vm_pu=1.00, name=\"Fuente Externa\")\n",
    "    pp.create_load(net1, bus=b2_1, p_mw=P1, q_mvar=Q1, name=\"Carga 1\")\n",
    "    #LINEAS\n",
    "    pp.create_line_from_parameters(net1, name='Linea 1-2_1', length_km=500, from_bus=b1_1, to_bus=b2_1,\n",
    "                                   r_ohm_per_km=r1, x_ohm_per_km=x1, c_nf_per_km=B1, max_i_ka=Imax1)\n",
    "    pp.create_line_from_parameters(net1, name='Linea 1-2_2', length_km=500, from_bus=b1_1, to_bus=b2_1,\n",
    "                                   r_ohm_per_km=r1, x_ohm_per_km=x1, c_nf_per_km=B1, max_i_ka=Imax1)\n",
    "    #Flujo De Energía\n",
    "    pp.runpp(net1,max_iteration=max_iteraciones)\n",
    "    tension_barra2 = net1.res_bus.at[1,'vm_pu']\n",
    "    Tensiones.append(tension_barra2)"
   ]
  },
  {
   "cell_type": "code",
   "execution_count": 22,
   "metadata": {},
   "outputs": [
    {
     "data": {
      "image/png": "[encoded data removed]",
      "text/plain": [
       "<Figure size 640x480 with 1 Axes>"
      ]
     },
     "metadata": {},
     "output_type": "display_data"
    }
   ],
   "source": [
    "import matplotlib.pyplot as plt\n",
    "plt.plot(list(range(600,1800+1,10)), Tensiones, marker='.', linestyle='-')\n",
    "plt.xlabel('Carga [MVA]')\n",
    "plt.ylabel('Tensión Barra 2 [pu]')\n",
    "plt.title('Tensión En Barra 2 - Carga Variable')\n",
    "plt.grid(True) \n",
    "plt.show()"
   ]
  },
  {
   "cell_type": "markdown",
   "metadata": {},
   "source": [
    "## 3. MODELO B"
   ]
  },
  {
   "cell_type": "code",
   "execution_count": null,
   "metadata": {},
   "outputs": [],
   "source": [
    "import pandapower as pp\n",
    "\n",
    "net2 = pp.create_empty_network()\n",
    "#Carga Nominal Por Barra\n",
    "P2 = 150 #MW\n",
    "Q2 = 100 #MVAr\n",
    "#Barras\n",
    "b1 = pp.create_bus(net2, vn_kv=110, name='Barra 1')\n",
    "b2 = pp.create_bus(net2, vn_kv=220, name=\"Barra 2\")\n",
    "b1A = pp.create_bus(net2, vn_kv=220, name=\"Barra 1A\")\n",
    "b2A = pp.create_bus(net2, vn_kv=220, name=\"Barra 2A\")\n",
    "b3A = pp.create_bus(net2, vn_kv=220, name=\"Barra 3A\")\n",
    "b1B = pp.create_bus(net2, vn_kv=220, name=\"Barra 1B\")\n",
    "b2B = pp.create_bus(net2, vn_kv=220, name=\"Barra 2B\")\n",
    "#Elementos De Barra\n",
    "pp.create_ext_grid(net2, bus=b1, vm_pu=1.00, name=\"Fuente Externa\")\n",
    "pp.create_load(net2, bus=b1A, p_mw=P2*0.2, q_mvar=Q2*0.2, name=\"Carga 1A\")\n",
    "pp.create_load(net2, bus=b2A, p_mw=P2*0.35, q_mvar=Q2*0.35, name=\"Carga 2A\")\n",
    "pp.create_load(net2, bus=b3A, p_mw=P2*0.15, q_mvar=Q2*0.15, name=\"Carga 3A\")\n",
    "pp.create_load(net2, bus=b1B, p_mw=P2*0.1, q_mvar=Q2*0.1, name=\"Carga 1B\")\n",
    "pp.create_load(net2, bus=b2B, p_mw=P2*0.6, q_mvar=Q2*0.6, name=\"Carga 2B\")\n",
    "#Elementos De Rama\n",
    "tid = pp.create_transformer(net2, hv_bus=b2, lv_bus=b1, std_type=\"100 MVA 220/110 kV\", name=\"Trafo\")\n",
    "#L 2 - 1A\n",
    "pp.create_line(net2, from_bus=b2, to_bus=b1A, length_km=10, name=\"Line\",std_type=\"N2XS(FL)2Y 1x185 RM/35 64/110 kV\") \n",
    "#L 1A - 2A\n",
    "pp.create_line(net2, from_bus=b1A, to_bus=b2A, length_km=15, name=\"Line\",std_type=\"N2XS(FL)2Y 1x185 RM/35 64/110 kV\") \n",
    "#L 2A - 3A\n",
    "pp.create_line(net2, from_bus=b2A, to_bus=b3A, length_km=20, name=\"Line\",std_type=\"N2XS(FL)2Y 1x185 RM/35 64/110 kV\") \n",
    "#L 3A - 2B\n",
    "pp.create_line(net2, from_bus=b3A, to_bus=b2B, length_km=15, name=\"Line\",std_type=\"N2XS(FL)2Y 1x185 RM/35 64/110 kV\") \n",
    "#L 2B - 1B\n",
    "pp.create_line(net2, from_bus=b2B, to_bus=b1B, length_km=30, name=\"Line\",std_type=\"N2XS(FL)2Y 1x185 RM/35 64/110 kV\") \n",
    "#L 1B - 2\n",
    "pp.create_line(net2, from_bus=b1B, to_bus=b2, length_km=10, name=\"Line\",std_type=\"N2XS(FL)2Y 1x185 RM/35 64/110 kV\") \n",
    "#Flujo De Carga\n",
    "pp.runpp(net2)"
   ]
  },
  {
   "cell_type": "code",
   "execution_count": null,
   "metadata": {},
   "outputs": [],
   "source": [
    "print(\"Resultados de las barras:\")\n",
    "print(net2.res_bus)"
   ]
  },
  {
   "cell_type": "code",
   "execution_count": null,
   "metadata": {},
   "outputs": [],
   "source": [
    "import pandapower as pp\n",
    "import math as mm\n",
    "\n",
    "#Variables Globales\n",
    "Tensiones = []\n",
    "Paso = 200 #MVA\n",
    "max_iteraciones = 20\n",
    "#Parámetros de Línea\n",
    "r1 = 0.02  #(Ohm/km)\n",
    "x1 = 0.115 #(Ohm/km)\n",
    "B1 = 19.1  #(nF/km)\n",
    "Imax1 = 1  #(kA)\n",
    "\n",
    "for i in range(600,1800,Paso): \n",
    "    net1 = pp.create_empty_network()\n",
    "    #Barras\n",
    "    b1_1 = pp.create_bus(net1, vn_kv=220, name=\"Barra 1\")\n",
    "    b2_1 = pp.create_bus(net1, vn_kv=220, name=\"Barra 2\")\n",
    "    #Calculo De Potencias En Carga\n",
    "    FP1 = 0.9\n",
    "    P1 = round(i * FP1, 2)\n",
    "    Q1 = round(i * mm.sqrt(1 - FP1**2), 2)\n",
    "    print(P1)\n",
    "    print(Q1)\n",
    "    #Elementos De Barra\n",
    "    pp.create_ext_grid(net1, bus=b1_1, vm_pu=1.00, name=\"Fuente Externa\")\n",
    "    pp.create_load(net1, bus=b2_1, p_mw=P1, q_mvar=Q1, name=\"Carga 1\")\n",
    "    #LINEAS\n",
    "    pp.create_line_from_parameters(net1, name='Linea 1-2_1', length_km=500, from_bus=b1_1, to_bus=b2_1,\n",
    "                                   r_ohm_per_km=r1, x_ohm_per_km=x1, c_nf_per_km=B1, max_i_ka=Imax1)\n",
    "    pp.create_line_from_parameters(net1, name='Linea 1-2_2', length_km=500, from_bus=b1_1, to_bus=b2_1,\n",
    "                                   r_ohm_per_km=r1, x_ohm_per_km=x1, c_nf_per_km=B1, max_i_ka=Imax1)\n",
    "    #Flujo De Energía\n",
    "    pp.runpp(net1,max_iteration=max_iteraciones)\n",
    "    tension_barra2 = net1.res_bus.at[0,'vm_pu']\n",
    "    print(\"Tensión en Barra 2:\", tension_barra2, \"pu\")\n",
    "    Tensiones.append(tension_barra2)\n",
    "print(Tensiones)  "
   ]
  },
  {
   "cell_type": "code",
   "execution_count": null,
   "metadata": {},
   "outputs": [],
   "source": [
    "#Algo asi hay que hacer en la tarea\n",
    "import cmath\n",
    "import numpy as np\n",
    "#Primero que nada necesitamos encontrar el valor de las matrices locales de las lineas, por lo que aquí se colocan los datos de la linea y despues se modelan por el modelo Pi para luego poder sumarlas al Y_buss\n",
    "Ybuss = np.zeros((6, 6), dtype=complex)\n",
    "Lista_datos_Lineas= [(\"1-2\",0.031,0.126,0.062),\n",
    "                     (\"1-5\",0.031,0.126,0.062),\n",
    "                     (\"2-3\",0.063,0.252,0.122),\n",
    "                     (\"3-5\",0.053,0.210,0.102),\n",
    "                     (\"3-6\",0.084,0.236,0.164)]; # (linea,r,x,b)\n",
    "for i in Lista_datos_Lineas:\n",
    "    L=150\n",
    "    Linea=i[0].split(\"-\")\n",
    "    Linea_a=int(Linea[0])-1\n",
    "    Linea_b=int(Linea[1])-1\n",
    "    z = complex(i[1],i[2])\n",
    "    y = complex(0,i[3])\n",
    "    Zc = cmath.sqrt(z/y)\n",
    "    gama = cmath.sqrt(z*y)\n",
    "    Z_modelo=Zc*gama*L\n",
    "    Y_Serie=1/Z_modelo\n",
    "\n",
    "    Y_Shunt=gama*L/(Zc*2)\n",
    "    Y_Shunt=Y_Shunt.imag*1j\n",
    "    \n",
    "    A=Y_Serie+Y_Shunt\n",
    "    B=-Y_Serie\n",
    "    C=B\n",
    "    D=A\n",
    "\n",
    "    coordenadas = [(Linea_a, Linea_a), (Linea_a, Linea_b), \n",
    "                   (Linea_b, Linea_a), (Linea_b, Linea_b)]\n",
    "    valores_a_sumar = [A, B, C, D]\n",
    "    for coord, valor in zip(coordenadas, valores_a_sumar):\n",
    "        fila, columna = coord\n",
    "        Ybuss[fila, columna] += valor\n",
    "\n",
    "############################Trafos######################################\n",
    "\n",
    "Lista_datos_Trafos= [(\"4-5\",0,0.1,0),\n",
    "                     (\"4-6\",0,0.1,0)]; # (linea,r,x,b)\n",
    "for i in Lista_datos_Trafos:\n",
    "    Linea=i[0].split(\"-\")\n",
    "    Linea_a=int(Linea[0])-1\n",
    "    Linea_b=int(Linea[1])-1\n",
    "\n",
    "    Z_trafo=complex(i[1],i[2])\n",
    "    Y_trafo=1/Z_trafo\n",
    "    A=Y_trafo\n",
    "    B=-A\n",
    "    C=B\n",
    "    D=A\n",
    "\n",
    "    valores_a_sumar = [A, B, C, D]\n",
    "    coordenadas = [(Linea_a, Linea_a), (Linea_a, Linea_b), (Linea_b, Linea_a), (Linea_b, Linea_b)]\n",
    "    for coord, valor in zip(coordenadas, valores_a_sumar):\n",
    "        fila, columna = coord\n",
    "        Ybuss[fila, columna] += valor\n",
    "\n",
    "############################Generación######################################\n",
    "\n",
    "Lista_datos_Trafos= [(\"1\",0,1.1,0),\n",
    "                     (\"3\",0,1.3,0)]; # (linea,r,x,b)\n",
    "for i in Lista_datos_Trafos:\n",
    "    Linea=i[0].split(\"-\")\n",
    "    Linea_a=int(Linea[0])-1\n",
    "    Z_trafo=complex(i[1],i[2])\n",
    "    Y_trafo=1/Z_trafo\n",
    "\n",
    "    A=Y_trafo\n",
    "    coordenadas = [(Linea_a, Linea_a)]\n",
    "    valores_a_sumar = [A]\n",
    "    for coord, valor in zip(coordenadas, valores_a_sumar):\n",
    "        fila, columna = coord\n",
    "        Ybuss[fila, columna] += valor\n",
    "print(Ybuss)\n"
   ]
  },
  {
   "cell_type": "markdown",
   "metadata": {},
   "source": [
    "## Referencias\n",
    "\n",
    "[1] Norma Técnica De Calidad y Seguridad de Servicio. Extrída desde página web: https://www.cne.cl/normativas/electrica/normas-tecnicas/ \n",
    "\n",
    "[2]"
   ]
  },
  {
   "cell_type": "code",
   "execution_count": 20,
   "metadata": {},
   "outputs": [
    {
     "name": "stdout",
     "output_type": "stream",
     "text": [
      "120\n",
      "120\n"
     ]
    }
   ],
   "source": [
    "a = list(range(600,1800,10))\n",
    "print(len(Tensiones))\n",
    "print(len(a))\n",
    "print(Tensiones)"
   ]
  }
 ],
 "metadata": {
  "kernelspec": {
   "display_name": "Python 3",
   "language": "python",
   "name": "python3"
  },
  "language_info": {
   "codemirror_mode": {
    "name": "ipython",
    "version": 3
   },
   "file_extension": ".py",
   "mimetype": "text/x-python",
   "name": "python",
   "nbconvert_exporter": "python",
   "pygments_lexer": "ipython3",
   "version": "3.9.2"
  }
 },
 "nbformat": 4,
 "nbformat_minor": 2
}
