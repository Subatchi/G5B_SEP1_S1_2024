{
 "cells": [
  {
   "cell_type": "markdown",
   "metadata": {},
   "source": [
    "# TAREA I\n",
    "\n",
    "## 1. Estudio De Ingeniería\n",
    "### I. Límites Admisibles de Operación\n",
    "### II. Tipos de Modelados De Líneas"
   ]
  },
  {
   "cell_type": "markdown",
   "metadata": {},
   "source": [
    "## 2. MODELO A\n",
    "\n",
    "En base a la información suministrada para el **Sistema A** y mostrada en la figura se plantea el esquema con Panda Power. Y se realiza el flujo de carga respectivo para la carga que cambia en el rango $\\pm 50\\%$ de la potencia indicada.\n",
    "\n",
    "<div style=\"text-align: center;\">\n",
    "  <img src=\"IMAGENES/MODELO_A.PNG\" alt=\"Descripción de la imagen\" width=\"200\"/>\n",
    "</div>"
   ]
  },
  {
   "cell_type": "markdown",
   "metadata": {},
   "source": [
    "**OBSERVACIÓN:** Puesto que la carga posee un rango de operación, se calcula previamente este rango de la siguiente manera:\n",
    "\n",
    "  $$Rango\\ Carga = [1200 \\times 0.5\\ \\text{MVA},\\ 1200 \\times 1.5\\ \\text{MVA}] = [600\\ \\text{MVA},\\ 1800\\ \\text{MVA}]$$"
   ]
  },
  {
   "cell_type": "code",
   "execution_count": 69,
   "metadata": {},
   "outputs": [
    {
     "ename": "LoadflowNotConverged",
     "evalue": "Power Flow nr did not converge after 10 iterations!",
     "output_type": "error",
     "traceback": [
      "\u001b[1;31m---------------------------------------------------------------------------\u001b[0m",
      "\u001b[1;31mLoadflowNotConverged\u001b[0m                      Traceback (most recent call last)",
      "Cell \u001b[1;32mIn[69], line 33\u001b[0m\n\u001b[0;32m     30\u001b[0m     pp\u001b[38;5;241m.\u001b[39mcreate_line_from_parameters(net1, name\u001b[38;5;241m=\u001b[39m\u001b[38;5;124m'\u001b[39m\u001b[38;5;124mLinea 1-2(II)\u001b[39m\u001b[38;5;124m'\u001b[39m, length_km\u001b[38;5;241m=\u001b[39m\u001b[38;5;241m500\u001b[39m, from_bus\u001b[38;5;241m=\u001b[39mb1_1, to_bus\u001b[38;5;241m=\u001b[39mb2_1,\n\u001b[0;32m     31\u001b[0m                                    r_ohm_per_km\u001b[38;5;241m=\u001b[39mr1, x_ohm_per_km\u001b[38;5;241m=\u001b[39mx1, c_nf_per_km\u001b[38;5;241m=\u001b[39mB1, max_i_ka\u001b[38;5;241m=\u001b[39mImax1)\n\u001b[0;32m     32\u001b[0m     \u001b[38;5;66;03m#Flujo De Energía\u001b[39;00m\n\u001b[1;32m---> 33\u001b[0m     \u001b[43mpp\u001b[49m\u001b[38;5;241;43m.\u001b[39;49m\u001b[43mrunpp\u001b[49m\u001b[43m(\u001b[49m\u001b[43mnet1\u001b[49m\u001b[43m)\u001b[49m\n\u001b[0;32m     34\u001b[0m     \u001b[38;5;66;03m#tension_barra2 = net1.res_bus.at[1,'vm_pu']\u001b[39;00m\n\u001b[0;32m     35\u001b[0m     \u001b[38;5;66;03m#Tensiones.append(tension_barra2)\u001b[39;00m\n\u001b[0;32m     36\u001b[0m \n\u001b[0;32m     37\u001b[0m \u001b[38;5;66;03m#print(Tensiones)  \u001b[39;00m\n",
      "File \u001b[1;32mc:\\Users\\Hp\\AppData\\Local\\Programs\\Python\\Python39\\lib\\site-packages\\pandapower\\run.py:250\u001b[0m, in \u001b[0;36mrunpp\u001b[1;34m(net, algorithm, calculate_voltage_angles, init, max_iteration, tolerance_mva, trafo_model, trafo_loading, enforce_q_lims, check_connectivity, voltage_depend_loads, consider_line_temperature, run_control, distributed_slack, tdpf, tdpf_delay_s, **kwargs)\u001b[0m\n\u001b[0;32m    248\u001b[0m _check_bus_index_and_print_warning_if_high(net)\n\u001b[0;32m    249\u001b[0m _check_gen_index_and_print_warning_if_high(net)\n\u001b[1;32m--> 250\u001b[0m _powerflow(net, \u001b[38;5;241m*\u001b[39m\u001b[38;5;241m*\u001b[39mkwargs)\n",
      "File \u001b[1;32mc:\\Users\\Hp\\AppData\\Local\\Programs\\Python\\Python39\\lib\\site-packages\\pandapower\\powerflow.py:86\u001b[0m, in \u001b[0;36m_powerflow\u001b[1;34m(net, **kwargs)\u001b[0m\n\u001b[0;32m     84\u001b[0m result \u001b[38;5;241m=\u001b[39m _run_pf_algorithm(ppci, net[\u001b[38;5;124m\"\u001b[39m\u001b[38;5;124m_options\u001b[39m\u001b[38;5;124m\"\u001b[39m], \u001b[38;5;241m*\u001b[39m\u001b[38;5;241m*\u001b[39mkwargs)\n\u001b[0;32m     85\u001b[0m \u001b[38;5;66;03m# read the results (=ppci with results) to net\u001b[39;00m\n\u001b[1;32m---> 86\u001b[0m \u001b[43m_ppci_to_net\u001b[49m\u001b[43m(\u001b[49m\u001b[43mresult\u001b[49m\u001b[43m,\u001b[49m\u001b[43m \u001b[49m\u001b[43mnet\u001b[49m\u001b[43m)\u001b[49m\n",
      "File \u001b[1;32mc:\\Users\\Hp\\AppData\\Local\\Programs\\Python\\Python39\\lib\\site-packages\\pandapower\\powerflow.py:190\u001b[0m, in \u001b[0;36m_ppci_to_net\u001b[1;34m(result, net)\u001b[0m\n\u001b[0;32m    188\u001b[0m     algorithm \u001b[38;5;241m=\u001b[39m net[\u001b[38;5;124m\"\u001b[39m\u001b[38;5;124m_options\u001b[39m\u001b[38;5;124m\"\u001b[39m][\u001b[38;5;124m\"\u001b[39m\u001b[38;5;124malgorithm\u001b[39m\u001b[38;5;124m\"\u001b[39m]\n\u001b[0;32m    189\u001b[0m     max_iteration \u001b[38;5;241m=\u001b[39m net[\u001b[38;5;124m\"\u001b[39m\u001b[38;5;124m_options\u001b[39m\u001b[38;5;124m\"\u001b[39m][\u001b[38;5;124m\"\u001b[39m\u001b[38;5;124mmax_iteration\u001b[39m\u001b[38;5;124m\"\u001b[39m]\n\u001b[1;32m--> 190\u001b[0m     \u001b[38;5;28;01mraise\u001b[39;00m LoadflowNotConverged(\u001b[38;5;124m\"\u001b[39m\u001b[38;5;124mPower Flow \u001b[39m\u001b[38;5;132;01m{0}\u001b[39;00m\u001b[38;5;124m did not converge after \u001b[39m\u001b[38;5;124m\"\u001b[39m\n\u001b[0;32m    191\u001b[0m                                \u001b[38;5;124m\"\u001b[39m\u001b[38;5;132;01m{1}\u001b[39;00m\u001b[38;5;124m iterations!\u001b[39m\u001b[38;5;124m\"\u001b[39m\u001b[38;5;241m.\u001b[39mformat(algorithm, max_iteration))\n\u001b[0;32m    192\u001b[0m \u001b[38;5;28;01melse\u001b[39;00m:\n\u001b[0;32m    193\u001b[0m     net[\u001b[38;5;124m\"\u001b[39m\u001b[38;5;124m_ppc\u001b[39m\u001b[38;5;124m\"\u001b[39m] \u001b[38;5;241m=\u001b[39m result\n",
      "\u001b[1;31mLoadflowNotConverged\u001b[0m: Power Flow nr did not converge after 10 iterations!"
     ]
    }
   ],
   "source": [
    "import pandapower as pp\n",
    "import math as mm\n",
    "\n",
    "#Variables Globales\n",
    "Tensiones = []\n",
    "Paso = 100 #MVA\n",
    "#max_iteraciones = 100 \n",
    "#Parámetros de Línea\n",
    "r1 = 0.02  #(Ohm/km)\n",
    "x1 = 0.115 #(Ohm/km)\n",
    "B1 = 19.1  #(nF/km)\n",
    "Imax1 = 1  #(kA)\n",
    "\n",
    "for i in range(600,1800,100): \n",
    "    net1 = pp.create_empty_network()\n",
    "    #Barras\n",
    "    b1_1 = pp.create_bus(net1, vn_kv=220, name=\"Barra 1\")\n",
    "    b2_1 = pp.create_bus(net1, vn_kv=220, name=\"Barra 2\")\n",
    "    #Calculo De Potencias En Carga\n",
    "    FP1 = 0.9\n",
    "    theta1 = mm.acos(FP1)\n",
    "    P1 = round(i*mm.cos(theta1),1)\n",
    "    Q1 = round(i*mm.sin(theta1),1)\n",
    "    #Elementos De Barra\n",
    "    pp.create_ext_grid(net1, bus=b1_1, vm_pu=1.00, name=\"Fuente Externa\") #FUENTE\n",
    "    pp.create_load(net1, bus=b2_1, p_mw=P1, q_mvar=Q1, name=\"Carga 1\")\n",
    "    #LINEAS\n",
    "    pp.create_line_from_parameters(net1, name='Linea 1-2(I)', length_km=500, from_bus=b1_1, to_bus=b2_1,\n",
    "                                   r_ohm_per_km=r1, x_ohm_per_km=x1, c_nf_per_km=B1, max_i_ka=Imax1)\n",
    "    pp.create_line_from_parameters(net1, name='Linea 1-2(II)', length_km=500, from_bus=b1_1, to_bus=b2_1,\n",
    "                                   r_ohm_per_km=r1, x_ohm_per_km=x1, c_nf_per_km=B1, max_i_ka=Imax1)\n",
    "    #Flujo De Energía\n",
    "    pp.runpp(net1)\n",
    "    #tension_barra2 = net1.res_bus.at[1,'vm_pu']\n",
    "    #Tensiones.append(tension_barra2)\n",
    "\n",
    "#print(Tensiones)  "
   ]
  },
  {
   "cell_type": "markdown",
   "metadata": {},
   "source": [
    "## 3. MODELO B"
   ]
  },
  {
   "cell_type": "code",
   "execution_count": null,
   "metadata": {},
   "outputs": [],
   "source": [
    "#Algo asi hay que hacer en la tarea\n",
    "import cmath\n",
    "import numpy as np\n",
    "#Primero que nada necesitamos encontrar el valor de las matrices locales de las lineas, por lo que aquí se colocan los datos de la linea y despues se modelan por el modelo Pi para luego poder sumarlas al Y_buss\n",
    "Ybuss = np.zeros((6, 6), dtype=complex)\n",
    "Lista_datos_Lineas= [(\"1-2\",0.031,0.126,0.062),\n",
    "                     (\"1-5\",0.031,0.126,0.062),\n",
    "                     (\"2-3\",0.063,0.252,0.122),\n",
    "                     (\"3-5\",0.053,0.210,0.102),\n",
    "                     (\"3-6\",0.084,0.236,0.164)]; # (linea,r,x,b)\n",
    "for i in Lista_datos_Lineas:\n",
    "    L=150\n",
    "    Linea=i[0].split(\"-\")\n",
    "    Linea_a=int(Linea[0])-1\n",
    "    Linea_b=int(Linea[1])-1\n",
    "    z = complex(i[1],i[2])\n",
    "    y = complex(0,i[3])\n",
    "    Zc = cmath.sqrt(z/y)\n",
    "    gama = cmath.sqrt(z*y)\n",
    "    Z_modelo=Zc*gama*L\n",
    "    Y_Serie=1/Z_modelo\n",
    "\n",
    "    Y_Shunt=gama*L/(Zc*2)\n",
    "    Y_Shunt=Y_Shunt.imag*1j\n",
    "    \n",
    "    A=Y_Serie+Y_Shunt\n",
    "    B=-Y_Serie\n",
    "    C=B\n",
    "    D=A\n",
    "\n",
    "    coordenadas = [(Linea_a, Linea_a), (Linea_a, Linea_b), \n",
    "                   (Linea_b, Linea_a), (Linea_b, Linea_b)]\n",
    "    valores_a_sumar = [A, B, C, D]\n",
    "    for coord, valor in zip(coordenadas, valores_a_sumar):\n",
    "        fila, columna = coord\n",
    "        Ybuss[fila, columna] += valor\n",
    "\n",
    "############################Trafos######################################\n",
    "\n",
    "Lista_datos_Trafos= [(\"4-5\",0,0.1,0),\n",
    "                     (\"4-6\",0,0.1,0)]; # (linea,r,x,b)\n",
    "for i in Lista_datos_Trafos:\n",
    "    Linea=i[0].split(\"-\")\n",
    "    Linea_a=int(Linea[0])-1\n",
    "    Linea_b=int(Linea[1])-1\n",
    "\n",
    "    Z_trafo=complex(i[1],i[2])\n",
    "    Y_trafo=1/Z_trafo\n",
    "    A=Y_trafo\n",
    "    B=-A\n",
    "    C=B\n",
    "    D=A\n",
    "\n",
    "    valores_a_sumar = [A, B, C, D]\n",
    "    coordenadas = [(Linea_a, Linea_a), (Linea_a, Linea_b), (Linea_b, Linea_a), (Linea_b, Linea_b)]\n",
    "    for coord, valor in zip(coordenadas, valores_a_sumar):\n",
    "        fila, columna = coord\n",
    "        Ybuss[fila, columna] += valor\n",
    "\n",
    "############################Generación######################################\n",
    "\n",
    "Lista_datos_Trafos= [(\"1\",0,1.1,0),\n",
    "                     (\"3\",0,1.3,0)]; # (linea,r,x,b)\n",
    "for i in Lista_datos_Trafos:\n",
    "    Linea=i[0].split(\"-\")\n",
    "    Linea_a=int(Linea[0])-1\n",
    "    Z_trafo=complex(i[1],i[2])\n",
    "    Y_trafo=1/Z_trafo\n",
    "\n",
    "    A=Y_trafo\n",
    "    coordenadas = [(Linea_a, Linea_a)]\n",
    "    valores_a_sumar = [A]\n",
    "    for coord, valor in zip(coordenadas, valores_a_sumar):\n",
    "        fila, columna = coord\n",
    "        Ybuss[fila, columna] += valor\n",
    "print(Ybuss)\n"
   ]
  },
  {
   "cell_type": "code",
   "execution_count": null,
   "metadata": {},
   "outputs": [],
   "source": [
    "for p in range(1,10,1):\n",
    "    print(p)"
   ]
  }
 ],
 "metadata": {
  "kernelspec": {
   "display_name": "Python 3",
   "language": "python",
   "name": "python3"
  },
  "language_info": {
   "codemirror_mode": {
    "name": "ipython",
    "version": 3
   },
   "file_extension": ".py",
   "mimetype": "text/x-python",
   "name": "python",
   "nbconvert_exporter": "python",
   "pygments_lexer": "ipython3",
   "version": "3.9.2"
  }
 },
 "nbformat": 4,
 "nbformat_minor": 2
}
