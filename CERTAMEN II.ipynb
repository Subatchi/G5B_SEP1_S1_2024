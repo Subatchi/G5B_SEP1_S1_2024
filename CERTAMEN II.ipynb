{
 "cells": [
  {
   "cell_type": "markdown",
   "metadata": {},
   "source": [
    "# CERTAMEN 2\n",
    "\n",
    "## PARTE 2\n",
    "<div style=\"text-align: justify;\">\n",
    "\n",
    "**CONTEXTO:** Para evaluar el comportamiento de los sistemas de potencia se acostumbra realizar simulaciones que son llevadas a cabo antes de la implementación de cualquier cambio que se quiera realizar. Para ciertos proyectos, la implementación de laboratorio es una etapa intermedia, ya que permite validar los cambios en un entorno intermedio, que trata de imitar las condiciones del entorno final, a pesar de que cientas condiciones no son las reales. Si bien en los cursos de Análisis de Sistemas de Potencia trabajamos con potencias difíciles de imitar en un laboratorio, es posible realizar estudios a partir de sistemas reescalados, sobre todo cuando se trabajan con istemas modelados a través de parámetros físicos como son las redes de dos puertos. Tras lo anterior, se propone una etapa experimental que imite el comportamiento de las redes eléctricas, en particular del sistema mostrado en la figura.\n",
    "</div>"
   ]
  },
  {
   "cell_type": "markdown",
   "metadata": {},
   "source": [
    "<div style=\"text-align: center;\">\n",
    "  <img src=\"IMAGENES/ESQUEMA_CERTAMEN2.PNG\" alt=\"Descripción de la imagen\" width=\"300\"/>\n",
    "</div>"
   ]
  },
  {
   "cell_type": "markdown",
   "metadata": {},
   "source": [
    "## Simulación Del Sistema "
   ]
  },
  {
   "cell_type": "code",
   "execution_count": 1,
   "metadata": {},
   "outputs": [],
   "source": [
    "import pandapower as pp\n",
    "net = pp.create_empty_network()\n",
    "\n",
    "#Parametros de Línea\n",
    "r = 0.099 #(Ohm/km)\n",
    "x = 0.156 #(Ohm/km)\n",
    "c = 125   #(nF/km) \n",
    "p = 1/4   #(W)\n",
    "\n",
    "#Barras\n",
    "b2 = pp.create_bus(net, vn_kv=0.015, name=\"Barra 2\")\n",
    "b3 = pp.create_bus(net, vn_kv=0.015, name=\"Barra 3\")\n",
    "b4 = pp.create_bus(net, vn_kv=0.015, name=\"Barra 4\")\n",
    "b5 = pp.create_bus(net, vn_kv=0.015, name=\"Barra 5\")\n",
    "b6 = pp.create_bus(net, vn_kv=0.015, name=\"Barra 6\")\n",
    "b7 = pp.create_bus(net, vn_kv=0.015, name=\"Barra 7\")\n",
    "b8 = pp.create_bus(net, vn_kv=0.015, name=\"Barra 8\")\n",
    "\n",
    "#Elementos De Barra\n",
    "pp.create_ext_grid(net, bus=b2, vm_pu=1.00, name=\"Fuente Externa\") #FUENTE\n",
    "pp.create_load(net, bus=b2, p_mw=(p*0.05)/1E6, q_mvar=0, name=\"Carga 2\") \n",
    "pp.create_load(net, bus=b3, p_mw=(p*0.20)/1E6, q_mvar=0, name=\"Carga 3\")    \n",
    "pp.create_load(net, bus=b4, p_mw=(p*0.35)/1E6, q_mvar=0, name=\"Carga 4\")\n",
    "pp.create_load(net, bus=b5, p_mw=(p*0.15)/1E6, q_mvar=0, name=\"Carga 5\")\n",
    "pp.create_load(net, bus=b6, p_mw=(p*0.12)/1E6, q_mvar=0, name=\"Carga 6\")\n",
    "pp.create_load(net, bus=b7, p_mw=(p*0.48)/1E6, q_mvar=0, name=\"Carga 7\")\n",
    "pp.create_load(net, bus=b8, p_mw=(p*0.10)/1E6, q_mvar=0, name=\"Carga 8\")\n",
    "\n",
    "#Elementos De Rama\n",
    "#tid = pp.create_transformer_from_parameters(net, hv_bus=b2, lv_bus=b1, name=\"Trafo\", sn_mva=0.01,\n",
    "#                                            vn_hv_kv=0.22, vn_lv_kv=0.015, vk_percent=4,vkr_percent=1.0794, \n",
    "#                                            pfe_kw=1.18, i0_percent=0.1873, shift_grado=0)\n",
    "lin_params = {\n",
    "    'r_ohm_per_km': 0.099,\n",
    "    'x_ohm_per_km': 0.156,\n",
    "    'c_nf_per_km': 125,\n",
    "    'max_i_ka': 0.1\n",
    "}\n",
    "#L2-3\n",
    "pp.create_line_from_parameters(net, name='Linea 2-3(A)', length_km = 0.009, from_bus = b2, to_bus = b3, **lin_params)\n",
    "pp.create_line_from_parameters(net, name='Linea 2-3(B)', length_km = 0.009, from_bus = b2, to_bus = b3, **lin_params)\n",
    "#L3-4\n",
    "pp.create_line_from_parameters(net, name='Linea 3-4(A)', length_km = 0.015, from_bus = b3, to_bus = b4, **lin_params) \n",
    "pp.create_line_from_parameters(net, name='Linea 3-4(B)', length_km = 0.015, from_bus = b3, to_bus = b4, **lin_params)\n",
    "#L4-5\n",
    "pp.create_line_from_parameters(net, name='Linea 4-5(A)', length_km = 0.020, from_bus = b4, to_bus = b5, **lin_params)\n",
    "pp.create_line_from_parameters(net, name='Linea 4-5(B)', length_km = 0.020, from_bus = b4, to_bus = b5, **lin_params)\n",
    "#L5-6\n",
    "pp.create_line_from_parameters(net, name='Linea 5-6(A)', length_km = 0.010, from_bus = b5, to_bus = b6, **lin_params)\n",
    "pp.create_line_from_parameters(net, name='Linea 5-6(B)', length_km = 0.010, from_bus = b5, to_bus = b6, **lin_params)\n",
    "#L6-7\n",
    "pp.create_line_from_parameters(net, name='Linea 6-7(A)', length_km = 0.005, from_bus = b6, to_bus = b7, **lin_params)\n",
    "pp.create_line_from_parameters(net, name='Linea 6-7(B)', length_km = 0.005, from_bus = b6, to_bus = b7, **lin_params)\n",
    "#L7-8\n",
    "pp.create_line_from_parameters(net, name='Linea 7-8(A)', length_km = 0.030, from_bus = b7, to_bus = b8, **lin_params)\n",
    "pp.create_line_from_parameters(net, name='Linea 7-8(B)', length_km = 0.030, from_bus = b7, to_bus = b8, **lin_params)\n",
    "#L8-2\n",
    "pp.create_line_from_parameters(net, name='Linea 8-2(A)', length_km = 0.010, from_bus = b8, to_bus = b2, **lin_params) \n",
    "pp.create_line_from_parameters(net, name='Linea 8-2(B)', length_km = 0.010, from_bus = b8, to_bus = b2, **lin_params)\n",
    "\n",
    "#COMPENSACION BARRA 6\n",
    "#pp.create_shunt(net, bus=b6, p_mw=0, q_mvar=-7.3E-7, name=\"Shunt de Compensación en Barra 6\") #Q positivo para L 1.8807E-4\n",
    "\n",
    "#Flujo De Energía\n",
    "pp.runpp(net)"
   ]
  },
  {
   "cell_type": "code",
   "execution_count": null,
   "metadata": {},
   "outputs": [
    {
     "name": "stdout",
     "output_type": "stream",
     "text": [
      "Resultados de las barras:\n",
      "      vm_pu  va_degree          p_mw        q_mvar\n",
      "0  1.000000   0.000000 -3.500003e-07  1.748960e-09\n",
      "1  1.000000  -0.000035  5.000000e-08  0.000000e+00\n",
      "2  0.999999  -0.000079  8.750000e-08  0.000000e+00\n",
      "3  0.999999  -0.000103  3.750000e-08  0.000000e+00\n",
      "4  0.999999  -0.000108  3.000000e-08  0.000000e+00\n",
      "5  0.999999  -0.000107  1.200000e-07  0.000000e+00\n",
      "6  1.000000  -0.000030  2.500000e-08  0.000000e+00\n"
     ]
    }
   ],
   "source": [
    "print(\"Resultados de las barras:\")\n",
    "print(net.res_bus)"
   ]
  }
 ],
 "metadata": {
  "kernelspec": {
   "display_name": "Python 3",
   "language": "python",
   "name": "python3"
  },
  "language_info": {
   "codemirror_mode": {
    "name": "ipython",
    "version": 3
   },
   "file_extension": ".py",
   "mimetype": "text/x-python",
   "name": "python",
   "nbconvert_exporter": "python",
   "pygments_lexer": "ipython3",
   "version": "3.9.2"
  }
 },
 "nbformat": 4,
 "nbformat_minor": 2
}
